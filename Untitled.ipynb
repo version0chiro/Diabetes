{
 "cells": [
  {
   "cell_type": "code",
   "execution_count": 1,
   "metadata": {},
   "outputs": [
    {
     "name": "stderr",
     "output_type": "stream",
     "text": [
      "Using TensorFlow backend.\n",
      "d:\\anaconda3\\envs\\tf-gpu-1.13\\lib\\site-packages\\tensorflow\\python\\framework\\dtypes.py:516: FutureWarning: Passing (type, 1) or '1type' as a synonym of type is deprecated; in a future version of numpy, it will be understood as (type, (1,)) / '(1,)type'.\n",
      "  _np_qint8 = np.dtype([(\"qint8\", np.int8, 1)])\n",
      "d:\\anaconda3\\envs\\tf-gpu-1.13\\lib\\site-packages\\tensorflow\\python\\framework\\dtypes.py:517: FutureWarning: Passing (type, 1) or '1type' as a synonym of type is deprecated; in a future version of numpy, it will be understood as (type, (1,)) / '(1,)type'.\n",
      "  _np_quint8 = np.dtype([(\"quint8\", np.uint8, 1)])\n",
      "d:\\anaconda3\\envs\\tf-gpu-1.13\\lib\\site-packages\\tensorflow\\python\\framework\\dtypes.py:518: FutureWarning: Passing (type, 1) or '1type' as a synonym of type is deprecated; in a future version of numpy, it will be understood as (type, (1,)) / '(1,)type'.\n",
      "  _np_qint16 = np.dtype([(\"qint16\", np.int16, 1)])\n",
      "d:\\anaconda3\\envs\\tf-gpu-1.13\\lib\\site-packages\\tensorflow\\python\\framework\\dtypes.py:519: FutureWarning: Passing (type, 1) or '1type' as a synonym of type is deprecated; in a future version of numpy, it will be understood as (type, (1,)) / '(1,)type'.\n",
      "  _np_quint16 = np.dtype([(\"quint16\", np.uint16, 1)])\n",
      "d:\\anaconda3\\envs\\tf-gpu-1.13\\lib\\site-packages\\tensorflow\\python\\framework\\dtypes.py:520: FutureWarning: Passing (type, 1) or '1type' as a synonym of type is deprecated; in a future version of numpy, it will be understood as (type, (1,)) / '(1,)type'.\n",
      "  _np_qint32 = np.dtype([(\"qint32\", np.int32, 1)])\n",
      "d:\\anaconda3\\envs\\tf-gpu-1.13\\lib\\site-packages\\tensorflow\\python\\framework\\dtypes.py:525: FutureWarning: Passing (type, 1) or '1type' as a synonym of type is deprecated; in a future version of numpy, it will be understood as (type, (1,)) / '(1,)type'.\n",
      "  np_resource = np.dtype([(\"resource\", np.ubyte, 1)])\n",
      "d:\\anaconda3\\envs\\tf-gpu-1.13\\lib\\site-packages\\tensorboard\\compat\\tensorflow_stub\\dtypes.py:541: FutureWarning: Passing (type, 1) or '1type' as a synonym of type is deprecated; in a future version of numpy, it will be understood as (type, (1,)) / '(1,)type'.\n",
      "  _np_qint8 = np.dtype([(\"qint8\", np.int8, 1)])\n",
      "d:\\anaconda3\\envs\\tf-gpu-1.13\\lib\\site-packages\\tensorboard\\compat\\tensorflow_stub\\dtypes.py:542: FutureWarning: Passing (type, 1) or '1type' as a synonym of type is deprecated; in a future version of numpy, it will be understood as (type, (1,)) / '(1,)type'.\n",
      "  _np_quint8 = np.dtype([(\"quint8\", np.uint8, 1)])\n",
      "d:\\anaconda3\\envs\\tf-gpu-1.13\\lib\\site-packages\\tensorboard\\compat\\tensorflow_stub\\dtypes.py:543: FutureWarning: Passing (type, 1) or '1type' as a synonym of type is deprecated; in a future version of numpy, it will be understood as (type, (1,)) / '(1,)type'.\n",
      "  _np_qint16 = np.dtype([(\"qint16\", np.int16, 1)])\n",
      "d:\\anaconda3\\envs\\tf-gpu-1.13\\lib\\site-packages\\tensorboard\\compat\\tensorflow_stub\\dtypes.py:544: FutureWarning: Passing (type, 1) or '1type' as a synonym of type is deprecated; in a future version of numpy, it will be understood as (type, (1,)) / '(1,)type'.\n",
      "  _np_quint16 = np.dtype([(\"quint16\", np.uint16, 1)])\n",
      "d:\\anaconda3\\envs\\tf-gpu-1.13\\lib\\site-packages\\tensorboard\\compat\\tensorflow_stub\\dtypes.py:545: FutureWarning: Passing (type, 1) or '1type' as a synonym of type is deprecated; in a future version of numpy, it will be understood as (type, (1,)) / '(1,)type'.\n",
      "  _np_qint32 = np.dtype([(\"qint32\", np.int32, 1)])\n",
      "d:\\anaconda3\\envs\\tf-gpu-1.13\\lib\\site-packages\\tensorboard\\compat\\tensorflow_stub\\dtypes.py:550: FutureWarning: Passing (type, 1) or '1type' as a synonym of type is deprecated; in a future version of numpy, it will be understood as (type, (1,)) / '(1,)type'.\n",
      "  np_resource = np.dtype([(\"resource\", np.ubyte, 1)])\n"
     ]
    }
   ],
   "source": [
    "from keras.models import Sequential\n",
    "from keras.layers import Conv2D, SeparableConv2D\n",
    "from keras.layers import MaxPooling2D, AvgPool2D\n",
    "from keras.layers import Flatten\n",
    "from keras.layers import Dense\n",
    "from keras import applications\n",
    "from keras.models import Sequential, Model, load_model\n",
    "from keras import optimizers\n",
    "\n",
    "from keras.preprocessing.image import ImageDataGenerator\n",
    "from keras.models import load_model\n",
    "import os\n",
    "from keras.preprocessing import image\n",
    "import numpy as np\n",
    "from keras.layers import Dropout\n",
    "import matplotlib.pyplot as plt\n",
    "from keras.layers import BatchNormalization\n",
    "from keras.layers import Activation\n",
    "from keras.optimizers import SGD\n",
    "from keras.optimizers import Adam\n",
    "from keras.regularizers import l2\n",
    "from time import time\n",
    "from tensorflow.python.keras.callbacks import TensorBoard\n",
    "from ann_visualizer.visualize import ann_viz\n",
    "import tensorflow as tf"
   ]
  },
  {
   "cell_type": "code",
   "execution_count": 2,
   "metadata": {},
   "outputs": [
    {
     "name": "stdout",
     "output_type": "stream",
     "text": [
      "GPU found\n"
     ]
    }
   ],
   "source": [
    "import os\n",
    "import tensorflow as tf\n",
    "\n",
    "os.environ['CUDA_VISIBLE_DEVICES'] = ''\n",
    "\n",
    "if tf.test.gpu_device_name():\n",
    "    print('GPU found')\n",
    "else:\n",
    "    print(\"No GPU found\")\n",
    "\n",
    "# No GPU found"
   ]
  },
  {
   "cell_type": "code",
   "execution_count": 7,
   "metadata": {},
   "outputs": [],
   "source": [
    "height, width = 200, 200\n",
    "continue_training = True\n",
    "LOF, MOF, HOF, VHOF = 1, 3, 5, 7     # low order features, medium order features, high order features, very high\n",
    "channels = 3\n",
    "pooling_size = 2\n",
    "output_classes = 2\n",
    "batch_size = 3\n",
    "steps_per_epoch = 50\n",
    "validation_steps = 40\n",
    "epochs = 10"
   ]
  },
  {
   "cell_type": "code",
   "execution_count": 8,
   "metadata": {},
   "outputs": [],
   "source": [
    "def create_model():\n",
    "    # import sequential model and all the required layers\n",
    "    #make model\n",
    "    model=Sequential()\n",
    "    model.add(Conv2D(filters=16,kernel_size=2,padding=\"same\",activation=\"relu\",input_shape=(200,200,3)))\n",
    "    model.add(MaxPooling2D(pool_size=2))\n",
    "    model.add(Conv2D(filters=32,kernel_size=2,padding=\"same\",activation=\"relu\"))\n",
    "    model.add(MaxPooling2D(pool_size=2))\n",
    "    model.add(Conv2D(filters=64,kernel_size=2,padding=\"same\",activation=\"relu\"))\n",
    "    model.add(MaxPooling2D(pool_size=2))\n",
    "    model.add(Flatten())\n",
    "    model.add(Dense(500,activation=\"relu\"))\n",
    "    model.add(Dropout(0.2))\n",
    "    model.add(Dense(2,activation=\"softmax\"))\n",
    "    model.compile(loss='categorical_crossentropy', optimizer='adam', \n",
    "                  metrics=['accuracy'])\n",
    "    return model"
   ]
  },
  {
   "cell_type": "code",
   "execution_count": 9,
   "metadata": {},
   "outputs": [],
   "source": [
    "def train_validate_model(my_model):\n",
    "    classes = ['Control','DM']\n",
    "\n",
    "    train_datagen = ImageDataGenerator(\n",
    "        rescale=1. / 255,\n",
    "    )\n",
    "\n",
    "    training_set = train_datagen.flow_from_directory(\n",
    "        'dataset/dfu_images/',\n",
    "        target_size=(height, width),\n",
    "        batch_size=batch_size,\n",
    "        classes=classes,\n",
    "        class_mode='categorical',\n",
    "        shuffle=True,\n",
    "        subset='training'\n",
    "    )\n",
    "\n",
    "    validation_set = train_datagen.flow_from_directory(\n",
    "        'dataset/test/',\n",
    "        target_size=(height, width),\n",
    "        batch_size=batch_size,\n",
    "        classes=classes,\n",
    "        class_mode='categorical',\n",
    "        shuffle=True\n",
    "    )\n",
    "\n",
    "    history = my_model.fit_generator(\n",
    "        training_set,\n",
    "        epochs=epochs,\n",
    "        steps_per_epoch=steps_per_epoch,\n",
    "        validation_steps=validation_steps,\n",
    "        validation_data=validation_set\n",
    "    )\n",
    "\n",
    "    print('Model score: ')\n",
    "    score = my_model.evaluate_generator(validation_set, steps=100)\n",
    "\n",
    "    print(\"Loss: \", score[0], \"Accuracy: \", score[1])\n",
    "\n",
    "    # Plot training & validation accuracy values\n",
    "    plt.plot(history.history['accuracy'])\n",
    "    plt.plot(history.history['val_accuracy'])\n",
    "    plt.title('Model accuracy')\n",
    "    plt.ylabel('Accuracy')\n",
    "    plt.xlabel('Epoch')\n",
    "    plt.legend(['Train', 'Test'], loc='upper left')\n",
    "    plt.show()\n",
    "\n",
    "    # Plot training & validation loss values\n",
    "    plt.plot(history.history['loss'])\n",
    "    plt.plot(history.history['val_loss'])\n",
    "    plt.title('Model loss')\n",
    "    plt.ylabel('Loss')\n",
    "    plt.xlabel('Epoch')\n",
    "    plt.legend(['Train', 'Test'], loc='upper left')\n",
    "    plt.show()\n",
    "\n",
    "    return my_model\n",
    "\n",
    "\n",
    "def save(my_model):\n",
    "    my_model.save('dibaties_right.h5')\n",
    "\n",
    "\n",
    "def load():\n",
    "    return load_model('dibaties_right.h5')\n"
   ]
  },
  {
   "cell_type": "code",
   "execution_count": 10,
   "metadata": {},
   "outputs": [
    {
     "name": "stdout",
     "output_type": "stream",
     "text": [
      "No existing model present, creating/training new model\n",
      "Found 62 images belonging to 2 classes.\n",
      "Found 9 images belonging to 2 classes.\n",
      "Epoch 1/10\n",
      "50/50 [==============================] - 3s 52ms/step - loss: 0.5305 - accuracy: 0.7365 - val_loss: 0.5056 - val_accuracy: 0.5583\n",
      "Epoch 2/10\n",
      "50/50 [==============================] - 2s 48ms/step - loss: 0.2060 - accuracy: 0.9320 - val_loss: 1.3443 - val_accuracy: 0.5417\n",
      "Epoch 3/10\n",
      "50/50 [==============================] - 2s 48ms/step - loss: 0.0148 - accuracy: 1.0000 - val_loss: 0.0017 - val_accuracy: 0.5667\n",
      "Epoch 4/10\n",
      "50/50 [==============================] - 2s 48ms/step - loss: 0.0013 - accuracy: 1.0000 - val_loss: 2.4325 - val_accuracy: 0.5500\n",
      "Epoch 5/10\n",
      "50/50 [==============================] - 2s 48ms/step - loss: 8.6276e-04 - accuracy: 1.0000 - val_loss: 2.4807 - val_accuracy: 0.5583\n",
      "Epoch 6/10\n",
      "50/50 [==============================] - 2s 48ms/step - loss: 4.8260e-04 - accuracy: 1.0000 - val_loss: 1.0576 - val_accuracy: 0.5583\n",
      "Epoch 7/10\n",
      "50/50 [==============================] - 2s 48ms/step - loss: 2.9817e-04 - accuracy: 1.0000 - val_loss: 2.9022 - val_accuracy: 0.5500\n",
      "Epoch 8/10\n",
      "50/50 [==============================] - 2s 48ms/step - loss: 1.4542e-04 - accuracy: 1.0000 - val_loss: 1.8000 - val_accuracy: 0.5583\n",
      "Epoch 9/10\n",
      "50/50 [==============================] - 2s 48ms/step - loss: 8.4540e-05 - accuracy: 1.0000 - val_loss: 1.2888 - val_accuracy: 0.5583\n",
      "Epoch 10/10\n",
      "50/50 [==============================] - 2s 48ms/step - loss: 7.4847e-05 - accuracy: 1.0000 - val_loss: 2.7616 - val_accuracy: 0.5500\n",
      "Model score: \n",
      "Loss:  1.7875957489013672 Accuracy:  0.5533333420753479\n"
     ]
    },
    {
     "data": {
      "image/png": "[encoded data removed]",
      "text/plain": [
       "<Figure size 432x288 with 1 Axes>"
      ]
     },
     "metadata": {
      "needs_background": "light"
     },
     "output_type": "display_data"
    },
    {
     "data": {
      "image/png": "[encoded data removed]",
      "text/plain": [
       "<Figure size 432x288 with 1 Axes>"
      ]
     },
     "metadata": {
      "needs_background": "light"
     },
     "output_type": "display_data"
    },
    {
     "name": "stdout",
     "output_type": "stream",
     "text": [
      "Model saved\n",
      "Model: \"sequential_2\"\n",
      "_________________________________________________________________\n",
      "Layer (type)                 Output Shape              Param #   \n",
      "=================================================================\n",
      "conv2d_4 (Conv2D)            (None, 200, 200, 16)      208       \n",
      "_________________________________________________________________\n",
      "max_pooling2d_4 (MaxPooling2 (None, 100, 100, 16)      0         \n",
      "_________________________________________________________________\n",
      "conv2d_5 (Conv2D)            (None, 100, 100, 32)      2080      \n",
      "_________________________________________________________________\n",
      "max_pooling2d_5 (MaxPooling2 (None, 50, 50, 32)        0         \n",
      "_________________________________________________________________\n",
      "conv2d_6 (Conv2D)            (None, 50, 50, 64)        8256      \n",
      "_________________________________________________________________\n",
      "max_pooling2d_6 (MaxPooling2 (None, 25, 25, 64)        0         \n",
      "_________________________________________________________________\n",
      "flatten_2 (Flatten)          (None, 40000)             0         \n",
      "_________________________________________________________________\n",
      "dense_3 (Dense)              (None, 500)               20000500  \n",
      "_________________________________________________________________\n",
      "dropout_2 (Dropout)          (None, 500)               0         \n",
      "_________________________________________________________________\n",
      "dense_4 (Dense)              (None, 2)                 1002      \n",
      "=================================================================\n",
      "Total params: 20,012,046\n",
      "Trainable params: 20,012,046\n",
      "Non-trainable params: 0\n",
      "_________________________________________________________________\n"
     ]
    }
   ],
   "source": [
    "if os.path.exists('dibaties_right.h5'):\n",
    "    print('Existing model found')\n",
    "    model = load()\n",
    "    print('Model loaded')\n",
    "    if continue_training:\n",
    "        model = train_validate_model(model)\n",
    "        save(model)\n",
    "else:\n",
    "    print('No existing model present, creating/training new model')\n",
    "    model = create_model()\n",
    "    mode = train_validate_model(model)\n",
    "    save(model)\n",
    "    print('Model saved')\n",
    "\n",
    "# predict(model)\n",
    "model.summary()"
   ]
  },
  {
   "cell_type": "code",
   "execution_count": 14,
   "metadata": {},
   "outputs": [],
   "source": [
    "from os import walk\n",
    "\n",
    "f = []\n",
    "for (dirpath, dirnames, filenames) in walk('dataset/test/DM/'):\n",
    "    f.extend(filenames)\n",
    "    break"
   ]
  },
  {
   "cell_type": "code",
   "execution_count": 15,
   "metadata": {},
   "outputs": [
    {
     "data": {
      "text/plain": [
       "['DM117_F_R.png',\n",
       " 'DM118_M_R.png',\n",
       " 'DM119_F_R.png',\n",
       " 'DM120_F_R.png',\n",
       " 'DM121_F_R.png',\n",
       " 'DM122_F_R.png']"
      ]
     },
     "execution_count": 15,
     "metadata": {},
     "output_type": "execute_result"
    }
   ],
   "source": [
    "f"
   ]
  },
  {
   "cell_type": "code",
   "execution_count": 17,
   "metadata": {},
   "outputs": [
    {
     "name": "stdout",
     "output_type": "stream",
     "text": [
      "DM\n",
      "Control\n",
      "Control\n",
      "DM\n",
      "Control\n",
      "DM\n",
      "FPS=158.04, total frames = 6 , time = 0.0380 seconds\n"
     ]
    }
   ],
   "source": [
    "classes=['Control','DM']\n",
    "import cv2\n",
    "import time \n",
    "runTotal=len(f)\n",
    "time1 = time.time()\n",
    "for i in f:\n",
    "    cur_img = cv2.imread('dataset/test/DM/'+str(i))\n",
    "    cur_img = cv2.resize(cur_img,(200,200))\n",
    "    cur_img =  np.expand_dims(cur_img, axis=0)\n",
    "    print(classes[np.argmax(model.predict(cur_img))])\n",
    "timetotal = time.time() - time1\n",
    "fps = float(runTotal/timetotal)\n",
    "print(\"FPS=%.2f, total frames = %.0f , time = %.4f seconds\" %(fps,runTotal,timetotal))"
   ]
  },
  {
   "cell_type": "code",
   "execution_count": null,
   "metadata": {},
   "outputs": [],
   "source": []
  },
  {
   "cell_type": "code",
   "execution_count": null,
   "metadata": {},
   "outputs": [],
   "source": []
  }
 ],
 "metadata": {
  "kernelspec": {
   "display_name": "Python 3",
   "language": "python",
   "name": "python3"
  },
  "language_info": {
   "codemirror_mode": {
    "name": "ipython",
    "version": 3
   },
   "file_extension": ".py",
   "mimetype": "text/x-python",
   "name": "python",
   "nbconvert_exporter": "python",
   "pygments_lexer": "ipython3",
   "version": "3.6.12"
  }
 },
 "nbformat": 4,
 "nbformat_minor": 4
}
